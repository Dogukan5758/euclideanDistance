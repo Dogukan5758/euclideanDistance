{
 "cells": [
  {
   "cell_type": "code",
   "execution_count": 13,
   "metadata": {},
   "outputs": [],
   "source": [
    "def euclideanDistance (points):\n",
    "    oklid = 0 \n",
    "    for i in range(len(points[0])):\n",
    "        oklid += (points[0][i] - points[1][i]) ** 2 \n",
    "    oklid **= (1/2)\n",
    "    return oklid        \n",
    "        \n",
    " "
   ]
  },
  {
   "cell_type": "code",
   "execution_count": 14,
   "metadata": {},
   "outputs": [
    {
     "name": "stdout",
     "output_type": "stream",
     "text": [
      "Yazdiginiz Noktalar [(9.0, 5.0), (10.0, 7.0)]\n"
     ]
    }
   ],
   "source": [
    "points = []\n",
    "\n",
    "for _ in range(2):\n",
    "    giris = input('Lutfen uzakligini hesaplamak istediginiz noktalarin kordinatlarini giriniz(Orn : x , y):')\n",
    "    elemanlar = giris.split(',')\n",
    "    if len(elemanlar) == 2:\n",
    "        nokta_demeti = (float(elemanlar[0]), float(elemanlar[1]))\n",
    "    elif len (elemanlar) == 3:\n",
    "        nokta_demeti = (float(elemanlar[0]), float(elemanlar[1]), float(elemanlar[2]))\n",
    "    else:\n",
    "        print('Lutfen 2 veya 3 boyutlu nokta kordinati giriniz')  \n",
    "        break  \n",
    "    points.append(nokta_demeti)\n",
    "\n",
    "print('Yazdiginiz Noktalar',points)\n",
    "\n"
   ]
  },
  {
   "cell_type": "code",
   "execution_count": 15,
   "metadata": {},
   "outputs": [
    {
     "name": "stdout",
     "output_type": "stream",
     "text": [
      "Noktalar Arasi mesafe: 2.23606797749979\n"
     ]
    }
   ],
   "source": [
    "sonuc = euclideanDistance(points)\n",
    "print('Noktalar Arasi mesafe:',sonuc)\n",
    "\n",
    "\n"
   ]
  },
  {
   "cell_type": "code",
   "execution_count": 53,
   "metadata": {},
   "outputs": [
    {
     "name": "stdout",
     "output_type": "stream",
     "text": [
      "12.0\n"
     ]
    }
   ],
   "source": [
    " "
   ]
  },
  {
   "cell_type": "code",
   "execution_count": null,
   "metadata": {},
   "outputs": [],
   "source": []
  },
  {
   "cell_type": "code",
   "execution_count": null,
   "metadata": {},
   "outputs": [],
   "source": []
  }
 ],
 "metadata": {
  "kernelspec": {
   "display_name": "Python 3",
   "language": "python",
   "name": "python3"
  },
  "language_info": {
   "codemirror_mode": {
    "name": "ipython",
    "version": 3
   },
   "file_extension": ".py",
   "mimetype": "text/x-python",
   "name": "python",
   "nbconvert_exporter": "python",
   "pygments_lexer": "ipython3",
   "version": "3.11.4"
  }
 },
 "nbformat": 4,
 "nbformat_minor": 2
}
